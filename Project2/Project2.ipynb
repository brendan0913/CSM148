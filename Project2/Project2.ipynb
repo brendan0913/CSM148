{
 "cells": [
  {
   "cell_type": "markdown",
   "metadata": {},
   "source": [
    "# CS M148 Project 2 - Binary Classification Methods"
   ]
  },
  {
   "cell_type": "markdown",
   "metadata": {},
   "source": [
    "For this project we're going to attempt a binary classification of a dataset using multiple methods and compare results. \n",
    "\n",
    "Our goals for this project will be to introduce you to several of the most common classification techniques, how to perform them and tweek parameters to optimize outcomes, how to produce and interpret results, and compare performance. You will be asked to analyze your findings and provide explanations for observed performance. \n",
    "\n",
    "Specifically you will be asked to classify whether a **patient is suffering from heart disease** based on a host of potential medical factors.\n",
    "\n",
    "**DEFINITIONS**\n",
    "\n",
    "**Binary Classification:** In this case a complex dataset has an added 'target' label with one of two options. Your learning algorithm will try to assign one of these labels to the data.\n",
    "\n",
    "**Supervised Learning:** This data is fully supervised, which means it's been fully labeled and we can trust the veracity of the labeling."
   ]
  },
  {
   "cell_type": "markdown",
   "metadata": {},
   "source": [
    "## Background: The Dataset "
   ]
  },
  {
   "cell_type": "markdown",
   "metadata": {},
   "source": [
    "For this exercise we will be using a subset of the UCI Heart Disease dataset, leveraging the fourteen most commonly used attributes. All identifying information about the patient has been scrubbed. \n",
    "\n",
    "The dataset includes 14 columns. The information provided by each column is as follows:\n",
    "- **age:** Age in years\n",
    "- **sex:** (1 = male; 0 = female)\n",
    "- **cp:** Chest pain type (0 = asymptomatic; 1 = atypical angina; 2 = non-anginal pain; 3 = typical angina)\n",
    "- **trestbps:** Resting blood pressure (in mm Hg on admission to the hospital)\n",
    "- **cholserum:** Cholestoral in mg/dl\n",
    "- **fbs** Fasting blood sugar > 120 mg/dl (1 = true; 0 = false)\n",
    "- **restecg:** Resting electrocardiographic results (0= showing probable or definite left ventricular hypertrophy by Estes' criteria; 1 = normal; 2 = having ST-T wave abnormality (T wave inversions and/or ST elevation or depression of > 0.05 mV))\n",
    "- **thalach:** Maximum heart rate achieved\n",
    "- **exang:** Exercise induced angina (1 = yes; 0 = no)\n",
    "- **oldpeakST:** Depression induced by exercise relative to rest\n",
    "- **slope:** The slope of the peak exercise ST segment (0 = downsloping; 1 = flat; 2 = upsloping)\n",
    "- **ca:** Number of major vessels (0-4) colored by flourosopy\n",
    "- **thal:** 1 = normal; 2 = fixed defect; 3 = reversable defect\n",
    "- **sick:** Indicates the presence of Heart disease (True = Disease; False = No disease)\n",
    "\n",
    "`sick` is the label that you will be predicting."
   ]
  },
  {
   "cell_type": "markdown",
   "metadata": {},
   "source": [
    "## Loading Essentials and Helper Functions "
   ]
  },
  {
   "cell_type": "code",
   "execution_count": 37,
   "metadata": {},
   "outputs": [],
   "source": [
    "# Here are a set of libraries we imported to complete this assignment. \n",
    "# Feel free to use these or equivalent libraries for your implementation\n",
    "# If you can run this cell without any errors, you're ready to go.\n",
    "import numpy as np # linear algebra\n",
    "import pandas as pd # data processing, CSV file I/O (e.g. pd.read_csv)\n",
    "import matplotlib.pyplot as plt # this is used for the plot the graph \n",
    "\n",
    "import seaborn as sns # used for plot interactive graph.\n",
    "from sklearn.model_selection import train_test_split, cross_val_score, GridSearchCV\n",
    "from sklearn import metrics\n",
    "from sklearn.svm import SVC  \n",
    "from sklearn.linear_model import LogisticRegression\n",
    "from sklearn.neighbors import KNeighborsClassifier\n",
    "from sklearn.tree import DecisionTreeClassifier\n",
    "from sklearn.cluster import KMeans\n",
    "from sklearn.metrics import confusion_matrix\n",
    "import sklearn.metrics.cluster as smc\n",
    "from matplotlib import pyplot\n",
    "\n",
    "import os\n",
    "import itertools\n",
    "import random \n",
    "\n",
    "%matplotlib inline\n",
    "\n",
    "random.seed(148) "
   ]
  },
  {
   "cell_type": "code",
   "execution_count": 38,
   "metadata": {},
   "outputs": [],
   "source": [
    "# Helper function allowing you to export a graph\n",
    "def save_fig(fig_id, tight_layout=True, fig_extension=\"png\", resolution=300):\n",
    "    path = os.path.join(fig_id + \".\" + fig_extension)\n",
    "    print(\"Saving figure\", fig_id)\n",
    "    if tight_layout:\n",
    "        plt.tight_layout()\n",
    "    plt.savefig(path, format=fig_extension, dpi=resolution)"
   ]
  },
  {
   "cell_type": "code",
   "execution_count": 39,
   "metadata": {},
   "outputs": [],
   "source": [
    "# Helper function that allows you to draw nicely formatted confusion matrices\n",
    "def draw_confusion_matrix(y, yhat, classes):\n",
    "    '''\n",
    "        Draws a confusion matrix for the given target and predictions\n",
    "        Adapted from scikit-learn example.\n",
    "    '''\n",
    "    plt.cla()\n",
    "    plt.clf()\n",
    "    matrix = confusion_matrix(y, yhat)\n",
    "    plt.imshow(matrix, interpolation='nearest', cmap=plt.cm.Blues)\n",
    "    plt.title(\"Confusion Matrix\")\n",
    "    plt.colorbar()\n",
    "    num_classes = len(classes)\n",
    "    plt.xticks(np.arange(num_classes), classes)\n",
    "    plt.yticks(np.arange(num_classes), classes)\n",
    "    \n",
    "    fmt = 'd'\n",
    "    thresh = matrix.max() / 2.\n",
    "    for i, j in itertools.product(range(matrix.shape[0]), range(matrix.shape[1])):\n",
    "        plt.text(j, i, format(matrix[i, j], fmt),\n",
    "                 horizontalalignment=\"center\",\n",
    "                 color=\"white\" if matrix[i, j] > thresh else \"black\")\n",
    "\n",
    "    plt.ylabel('True label')\n",
    "    plt.xlabel('Predicted label')\n",
    "    plt.tight_layout()\n",
    "    plt.show()"
   ]
  },
  {
   "cell_type": "markdown",
   "metadata": {},
   "source": [
    "## Part 1. Load the Data and Analyze"
   ]
  },
  {
   "cell_type": "markdown",
   "metadata": {},
   "source": [
    "Let's load our dataset so we can work with it (correct the path if your notebook is in a different directory than the .csv file)."
   ]
  },
  {
   "cell_type": "code",
   "execution_count": 40,
   "metadata": {},
   "outputs": [],
   "source": [
    "data = pd.read_csv('heartdisease.csv')\n",
    "data = data.sample(random_state=42, frac=1).reset_index(drop=True)"
   ]
  },
  {
   "cell_type": "markdown",
   "metadata": {},
   "source": [
    "### Question 1.1 \n",
    "\n",
    "Now that our data is loaded, let's take a closer look at the dataset we're working with. Use the head method, the describe method, and the info method to display some of the rows so we can visualize the types of data fields we'll be working with."
   ]
  },
  {
   "cell_type": "code",
   "execution_count": 41,
   "metadata": {},
   "outputs": [
    {
     "data": {
      "text/html": [
       "<div>\n",
       "<style scoped>\n",
       "    .dataframe tbody tr th:only-of-type {\n",
       "        vertical-align: middle;\n",
       "    }\n",
       "\n",
       "    .dataframe tbody tr th {\n",
       "        vertical-align: top;\n",
       "    }\n",
       "\n",
       "    .dataframe thead th {\n",
       "        text-align: right;\n",
       "    }\n",
       "</style>\n",
       "<table border=\"1\" class=\"dataframe\">\n",
       "  <thead>\n",
       "    <tr style=\"text-align: right;\">\n",
       "      <th></th>\n",
       "      <th>age</th>\n",
       "      <th>sex</th>\n",
       "      <th>cp</th>\n",
       "      <th>trestbps</th>\n",
       "      <th>chol</th>\n",
       "      <th>fbs</th>\n",
       "      <th>restecg</th>\n",
       "      <th>thalach</th>\n",
       "      <th>exang</th>\n",
       "      <th>oldpeak</th>\n",
       "      <th>slope</th>\n",
       "      <th>ca</th>\n",
       "      <th>thal</th>\n",
       "      <th>sick</th>\n",
       "    </tr>\n",
       "  </thead>\n",
       "  <tbody>\n",
       "    <tr>\n",
       "      <th>0</th>\n",
       "      <td>57</td>\n",
       "      <td>1</td>\n",
       "      <td>0</td>\n",
       "      <td>150</td>\n",
       "      <td>276</td>\n",
       "      <td>0</td>\n",
       "      <td>0</td>\n",
       "      <td>112</td>\n",
       "      <td>1</td>\n",
       "      <td>0.6</td>\n",
       "      <td>1</td>\n",
       "      <td>1</td>\n",
       "      <td>1</td>\n",
       "      <td>True</td>\n",
       "    </tr>\n",
       "    <tr>\n",
       "      <th>1</th>\n",
       "      <td>59</td>\n",
       "      <td>1</td>\n",
       "      <td>3</td>\n",
       "      <td>170</td>\n",
       "      <td>288</td>\n",
       "      <td>0</td>\n",
       "      <td>0</td>\n",
       "      <td>159</td>\n",
       "      <td>0</td>\n",
       "      <td>0.2</td>\n",
       "      <td>1</td>\n",
       "      <td>0</td>\n",
       "      <td>3</td>\n",
       "      <td>True</td>\n",
       "    </tr>\n",
       "    <tr>\n",
       "      <th>2</th>\n",
       "      <td>57</td>\n",
       "      <td>1</td>\n",
       "      <td>2</td>\n",
       "      <td>150</td>\n",
       "      <td>126</td>\n",
       "      <td>1</td>\n",
       "      <td>1</td>\n",
       "      <td>173</td>\n",
       "      <td>0</td>\n",
       "      <td>0.2</td>\n",
       "      <td>2</td>\n",
       "      <td>1</td>\n",
       "      <td>3</td>\n",
       "      <td>False</td>\n",
       "    </tr>\n",
       "    <tr>\n",
       "      <th>3</th>\n",
       "      <td>56</td>\n",
       "      <td>0</td>\n",
       "      <td>0</td>\n",
       "      <td>134</td>\n",
       "      <td>409</td>\n",
       "      <td>0</td>\n",
       "      <td>0</td>\n",
       "      <td>150</td>\n",
       "      <td>1</td>\n",
       "      <td>1.9</td>\n",
       "      <td>1</td>\n",
       "      <td>2</td>\n",
       "      <td>3</td>\n",
       "      <td>True</td>\n",
       "    </tr>\n",
       "    <tr>\n",
       "      <th>4</th>\n",
       "      <td>71</td>\n",
       "      <td>0</td>\n",
       "      <td>2</td>\n",
       "      <td>110</td>\n",
       "      <td>265</td>\n",
       "      <td>1</td>\n",
       "      <td>0</td>\n",
       "      <td>130</td>\n",
       "      <td>0</td>\n",
       "      <td>0.0</td>\n",
       "      <td>2</td>\n",
       "      <td>1</td>\n",
       "      <td>2</td>\n",
       "      <td>False</td>\n",
       "    </tr>\n",
       "  </tbody>\n",
       "</table>\n",
       "</div>"
      ],
      "text/plain": [
       "   age  sex  cp  trestbps  chol  fbs  restecg  thalach  exang  oldpeak  slope  \\\n",
       "0   57    1   0       150   276    0        0      112      1      0.6      1   \n",
       "1   59    1   3       170   288    0        0      159      0      0.2      1   \n",
       "2   57    1   2       150   126    1        1      173      0      0.2      2   \n",
       "3   56    0   0       134   409    0        0      150      1      1.9      1   \n",
       "4   71    0   2       110   265    1        0      130      0      0.0      2   \n",
       "\n",
       "   ca  thal   sick  \n",
       "0   1     1   True  \n",
       "1   0     3   True  \n",
       "2   1     3  False  \n",
       "3   2     3   True  \n",
       "4   1     2  False  "
      ]
     },
     "execution_count": 41,
     "metadata": {},
     "output_type": "execute_result"
    }
   ],
   "source": [
    "data.head()"
   ]
  },
  {
   "cell_type": "code",
   "execution_count": 42,
   "metadata": {},
   "outputs": [
    {
     "name": "stdout",
     "output_type": "stream",
     "text": [
      "<class 'pandas.core.frame.DataFrame'>\n",
      "RangeIndex: 303 entries, 0 to 302\n",
      "Data columns (total 14 columns):\n",
      " #   Column    Non-Null Count  Dtype  \n",
      "---  ------    --------------  -----  \n",
      " 0   age       303 non-null    int64  \n",
      " 1   sex       303 non-null    int64  \n",
      " 2   cp        303 non-null    int64  \n",
      " 3   trestbps  303 non-null    int64  \n",
      " 4   chol      303 non-null    int64  \n",
      " 5   fbs       303 non-null    int64  \n",
      " 6   restecg   303 non-null    int64  \n",
      " 7   thalach   303 non-null    int64  \n",
      " 8   exang     303 non-null    int64  \n",
      " 9   oldpeak   303 non-null    float64\n",
      " 10  slope     303 non-null    int64  \n",
      " 11  ca        303 non-null    int64  \n",
      " 12  thal      303 non-null    int64  \n",
      " 13  sick      303 non-null    bool   \n",
      "dtypes: bool(1), float64(1), int64(12)\n",
      "memory usage: 31.2 KB\n"
     ]
    },
    {
     "data": {
      "text/html": [
       "<div>\n",
       "<style scoped>\n",
       "    .dataframe tbody tr th:only-of-type {\n",
       "        vertical-align: middle;\n",
       "    }\n",
       "\n",
       "    .dataframe tbody tr th {\n",
       "        vertical-align: top;\n",
       "    }\n",
       "\n",
       "    .dataframe thead th {\n",
       "        text-align: right;\n",
       "    }\n",
       "</style>\n",
       "<table border=\"1\" class=\"dataframe\">\n",
       "  <thead>\n",
       "    <tr style=\"text-align: right;\">\n",
       "      <th></th>\n",
       "      <th>age</th>\n",
       "      <th>sex</th>\n",
       "      <th>cp</th>\n",
       "      <th>trestbps</th>\n",
       "      <th>chol</th>\n",
       "      <th>fbs</th>\n",
       "      <th>restecg</th>\n",
       "      <th>thalach</th>\n",
       "      <th>exang</th>\n",
       "      <th>oldpeak</th>\n",
       "      <th>slope</th>\n",
       "      <th>ca</th>\n",
       "      <th>thal</th>\n",
       "    </tr>\n",
       "  </thead>\n",
       "  <tbody>\n",
       "    <tr>\n",
       "      <th>count</th>\n",
       "      <td>303.000000</td>\n",
       "      <td>303.000000</td>\n",
       "      <td>303.000000</td>\n",
       "      <td>303.000000</td>\n",
       "      <td>303.000000</td>\n",
       "      <td>303.000000</td>\n",
       "      <td>303.000000</td>\n",
       "      <td>303.000000</td>\n",
       "      <td>303.000000</td>\n",
       "      <td>303.000000</td>\n",
       "      <td>303.000000</td>\n",
       "      <td>303.000000</td>\n",
       "      <td>303.000000</td>\n",
       "    </tr>\n",
       "    <tr>\n",
       "      <th>mean</th>\n",
       "      <td>54.366337</td>\n",
       "      <td>0.683168</td>\n",
       "      <td>0.966997</td>\n",
       "      <td>131.623762</td>\n",
       "      <td>246.264026</td>\n",
       "      <td>0.148515</td>\n",
       "      <td>0.528053</td>\n",
       "      <td>149.646865</td>\n",
       "      <td>0.326733</td>\n",
       "      <td>1.039604</td>\n",
       "      <td>1.399340</td>\n",
       "      <td>0.729373</td>\n",
       "      <td>2.313531</td>\n",
       "    </tr>\n",
       "    <tr>\n",
       "      <th>std</th>\n",
       "      <td>9.082101</td>\n",
       "      <td>0.466011</td>\n",
       "      <td>1.032052</td>\n",
       "      <td>17.538143</td>\n",
       "      <td>51.830751</td>\n",
       "      <td>0.356198</td>\n",
       "      <td>0.525860</td>\n",
       "      <td>22.905161</td>\n",
       "      <td>0.469794</td>\n",
       "      <td>1.161075</td>\n",
       "      <td>0.616226</td>\n",
       "      <td>1.022606</td>\n",
       "      <td>0.612277</td>\n",
       "    </tr>\n",
       "    <tr>\n",
       "      <th>min</th>\n",
       "      <td>29.000000</td>\n",
       "      <td>0.000000</td>\n",
       "      <td>0.000000</td>\n",
       "      <td>94.000000</td>\n",
       "      <td>126.000000</td>\n",
       "      <td>0.000000</td>\n",
       "      <td>0.000000</td>\n",
       "      <td>71.000000</td>\n",
       "      <td>0.000000</td>\n",
       "      <td>0.000000</td>\n",
       "      <td>0.000000</td>\n",
       "      <td>0.000000</td>\n",
       "      <td>0.000000</td>\n",
       "    </tr>\n",
       "    <tr>\n",
       "      <th>25%</th>\n",
       "      <td>47.500000</td>\n",
       "      <td>0.000000</td>\n",
       "      <td>0.000000</td>\n",
       "      <td>120.000000</td>\n",
       "      <td>211.000000</td>\n",
       "      <td>0.000000</td>\n",
       "      <td>0.000000</td>\n",
       "      <td>133.500000</td>\n",
       "      <td>0.000000</td>\n",
       "      <td>0.000000</td>\n",
       "      <td>1.000000</td>\n",
       "      <td>0.000000</td>\n",
       "      <td>2.000000</td>\n",
       "    </tr>\n",
       "    <tr>\n",
       "      <th>50%</th>\n",
       "      <td>55.000000</td>\n",
       "      <td>1.000000</td>\n",
       "      <td>1.000000</td>\n",
       "      <td>130.000000</td>\n",
       "      <td>240.000000</td>\n",
       "      <td>0.000000</td>\n",
       "      <td>1.000000</td>\n",
       "      <td>153.000000</td>\n",
       "      <td>0.000000</td>\n",
       "      <td>0.800000</td>\n",
       "      <td>1.000000</td>\n",
       "      <td>0.000000</td>\n",
       "      <td>2.000000</td>\n",
       "    </tr>\n",
       "    <tr>\n",
       "      <th>75%</th>\n",
       "      <td>61.000000</td>\n",
       "      <td>1.000000</td>\n",
       "      <td>2.000000</td>\n",
       "      <td>140.000000</td>\n",
       "      <td>274.500000</td>\n",
       "      <td>0.000000</td>\n",
       "      <td>1.000000</td>\n",
       "      <td>166.000000</td>\n",
       "      <td>1.000000</td>\n",
       "      <td>1.600000</td>\n",
       "      <td>2.000000</td>\n",
       "      <td>1.000000</td>\n",
       "      <td>3.000000</td>\n",
       "    </tr>\n",
       "    <tr>\n",
       "      <th>max</th>\n",
       "      <td>77.000000</td>\n",
       "      <td>1.000000</td>\n",
       "      <td>3.000000</td>\n",
       "      <td>200.000000</td>\n",
       "      <td>564.000000</td>\n",
       "      <td>1.000000</td>\n",
       "      <td>2.000000</td>\n",
       "      <td>202.000000</td>\n",
       "      <td>1.000000</td>\n",
       "      <td>6.200000</td>\n",
       "      <td>2.000000</td>\n",
       "      <td>4.000000</td>\n",
       "      <td>3.000000</td>\n",
       "    </tr>\n",
       "  </tbody>\n",
       "</table>\n",
       "</div>"
      ],
      "text/plain": [
       "              age         sex          cp    trestbps        chol         fbs  \\\n",
       "count  303.000000  303.000000  303.000000  303.000000  303.000000  303.000000   \n",
       "mean    54.366337    0.683168    0.966997  131.623762  246.264026    0.148515   \n",
       "std      9.082101    0.466011    1.032052   17.538143   51.830751    0.356198   \n",
       "min     29.000000    0.000000    0.000000   94.000000  126.000000    0.000000   \n",
       "25%     47.500000    0.000000    0.000000  120.000000  211.000000    0.000000   \n",
       "50%     55.000000    1.000000    1.000000  130.000000  240.000000    0.000000   \n",
       "75%     61.000000    1.000000    2.000000  140.000000  274.500000    0.000000   \n",
       "max     77.000000    1.000000    3.000000  200.000000  564.000000    1.000000   \n",
       "\n",
       "          restecg     thalach       exang     oldpeak       slope          ca  \\\n",
       "count  303.000000  303.000000  303.000000  303.000000  303.000000  303.000000   \n",
       "mean     0.528053  149.646865    0.326733    1.039604    1.399340    0.729373   \n",
       "std      0.525860   22.905161    0.469794    1.161075    0.616226    1.022606   \n",
       "min      0.000000   71.000000    0.000000    0.000000    0.000000    0.000000   \n",
       "25%      0.000000  133.500000    0.000000    0.000000    1.000000    0.000000   \n",
       "50%      1.000000  153.000000    0.000000    0.800000    1.000000    0.000000   \n",
       "75%      1.000000  166.000000    1.000000    1.600000    2.000000    1.000000   \n",
       "max      2.000000  202.000000    1.000000    6.200000    2.000000    4.000000   \n",
       "\n",
       "             thal  \n",
       "count  303.000000  \n",
       "mean     2.313531  \n",
       "std      0.612277  \n",
       "min      0.000000  \n",
       "25%      2.000000  \n",
       "50%      2.000000  \n",
       "75%      3.000000  \n",
       "max      3.000000  "
      ]
     },
     "execution_count": 42,
     "metadata": {},
     "output_type": "execute_result"
    }
   ],
   "source": [
    "data.info()\n",
    "data.describe()"
   ]
  },
  {
   "cell_type": "markdown",
   "metadata": {},
   "source": [
    "### Question 1.2\n",
    "Sometimes data will be stored in different formats (e.g., string, date, boolean), but many learning methods work strictly on numeric inputs. Call the info method to determine the datafield type for each column. Are there any that are problemmatic and why?"
   ]
  },
  {
   "cell_type": "markdown",
   "metadata": {},
   "source": [
    "[Use this area to describe any fields you believe will be problemmatic and why] E.g., All the columns in our dataframe are numeric (either int or float), however our target variable 'sick' is a boolean and may need to be modified."
   ]
  },
  {
   "cell_type": "code",
   "execution_count": 43,
   "metadata": {},
   "outputs": [
    {
     "name": "stdout",
     "output_type": "stream",
     "text": [
      "<class 'pandas.core.frame.DataFrame'>\n",
      "RangeIndex: 303 entries, 0 to 302\n",
      "Data columns (total 14 columns):\n",
      " #   Column    Non-Null Count  Dtype  \n",
      "---  ------    --------------  -----  \n",
      " 0   age       303 non-null    int64  \n",
      " 1   sex       303 non-null    int64  \n",
      " 2   cp        303 non-null    int64  \n",
      " 3   trestbps  303 non-null    int64  \n",
      " 4   chol      303 non-null    int64  \n",
      " 5   fbs       303 non-null    int64  \n",
      " 6   restecg   303 non-null    int64  \n",
      " 7   thalach   303 non-null    int64  \n",
      " 8   exang     303 non-null    int64  \n",
      " 9   oldpeak   303 non-null    float64\n",
      " 10  slope     303 non-null    int64  \n",
      " 11  ca        303 non-null    int64  \n",
      " 12  thal      303 non-null    int64  \n",
      " 13  sick      303 non-null    bool   \n",
      "dtypes: bool(1), float64(1), int64(12)\n",
      "memory usage: 31.2 KB\n"
     ]
    }
   ],
   "source": [
    "data.info()   # There is one bool column (the rest are ints and floats)\n",
    "              # Only the 'sick' column will be problematic so far, since it is not an int or float;\n",
    "              #    instead, it is a bool, but it should be easy to change it to an int (a 0, if healthy, or 1, if sick)"
   ]
  },
  {
   "cell_type": "markdown",
   "metadata": {},
   "source": [
    "### Question 1.3\n",
    "Determine if we're dealing with any null values. If so, report which columns."
   ]
  },
  {
   "cell_type": "code",
   "execution_count": 44,
   "metadata": {},
   "outputs": [
    {
     "data": {
      "text/plain": [
       "age         0\n",
       "sex         0\n",
       "cp          0\n",
       "trestbps    0\n",
       "chol        0\n",
       "fbs         0\n",
       "restecg     0\n",
       "thalach     0\n",
       "exang       0\n",
       "oldpeak     0\n",
       "slope       0\n",
       "ca          0\n",
       "thal        0\n",
       "sick        0\n",
       "dtype: int64"
      ]
     },
     "execution_count": 44,
     "metadata": {},
     "output_type": "execute_result"
    }
   ],
   "source": [
    "data.isnull().sum()   # As we see, there are no null values (none are problematic)"
   ]
  },
  {
   "cell_type": "markdown",
   "metadata": {},
   "source": [
    "### Question 1.4\n",
    "Before we begin our analysis we need to fix the field(s) that will be problematic. Specifically convert our boolean `sick` variable into a binary numeric target variable (values of either '0' or '1'), and then drop the original `sick` datafield from the dataframe."
   ]
  },
  {
   "cell_type": "code",
   "execution_count": 45,
   "metadata": {},
   "outputs": [
    {
     "data": {
      "text/html": [
       "<div>\n",
       "<style scoped>\n",
       "    .dataframe tbody tr th:only-of-type {\n",
       "        vertical-align: middle;\n",
       "    }\n",
       "\n",
       "    .dataframe tbody tr th {\n",
       "        vertical-align: top;\n",
       "    }\n",
       "\n",
       "    .dataframe thead th {\n",
       "        text-align: right;\n",
       "    }\n",
       "</style>\n",
       "<table border=\"1\" class=\"dataframe\">\n",
       "  <thead>\n",
       "    <tr style=\"text-align: right;\">\n",
       "      <th></th>\n",
       "      <th>age</th>\n",
       "      <th>sex</th>\n",
       "      <th>cp</th>\n",
       "      <th>trestbps</th>\n",
       "      <th>chol</th>\n",
       "      <th>fbs</th>\n",
       "      <th>restecg</th>\n",
       "      <th>thalach</th>\n",
       "      <th>exang</th>\n",
       "      <th>oldpeak</th>\n",
       "      <th>slope</th>\n",
       "      <th>ca</th>\n",
       "      <th>thal</th>\n",
       "      <th>sick</th>\n",
       "    </tr>\n",
       "  </thead>\n",
       "  <tbody>\n",
       "    <tr>\n",
       "      <th>0</th>\n",
       "      <td>57</td>\n",
       "      <td>1</td>\n",
       "      <td>0</td>\n",
       "      <td>150</td>\n",
       "      <td>276</td>\n",
       "      <td>0</td>\n",
       "      <td>0</td>\n",
       "      <td>112</td>\n",
       "      <td>1</td>\n",
       "      <td>0.6</td>\n",
       "      <td>1</td>\n",
       "      <td>1</td>\n",
       "      <td>1</td>\n",
       "      <td>1</td>\n",
       "    </tr>\n",
       "    <tr>\n",
       "      <th>1</th>\n",
       "      <td>59</td>\n",
       "      <td>1</td>\n",
       "      <td>3</td>\n",
       "      <td>170</td>\n",
       "      <td>288</td>\n",
       "      <td>0</td>\n",
       "      <td>0</td>\n",
       "      <td>159</td>\n",
       "      <td>0</td>\n",
       "      <td>0.2</td>\n",
       "      <td>1</td>\n",
       "      <td>0</td>\n",
       "      <td>3</td>\n",
       "      <td>1</td>\n",
       "    </tr>\n",
       "    <tr>\n",
       "      <th>2</th>\n",
       "      <td>57</td>\n",
       "      <td>1</td>\n",
       "      <td>2</td>\n",
       "      <td>150</td>\n",
       "      <td>126</td>\n",
       "      <td>1</td>\n",
       "      <td>1</td>\n",
       "      <td>173</td>\n",
       "      <td>0</td>\n",
       "      <td>0.2</td>\n",
       "      <td>2</td>\n",
       "      <td>1</td>\n",
       "      <td>3</td>\n",
       "      <td>0</td>\n",
       "    </tr>\n",
       "    <tr>\n",
       "      <th>3</th>\n",
       "      <td>56</td>\n",
       "      <td>0</td>\n",
       "      <td>0</td>\n",
       "      <td>134</td>\n",
       "      <td>409</td>\n",
       "      <td>0</td>\n",
       "      <td>0</td>\n",
       "      <td>150</td>\n",
       "      <td>1</td>\n",
       "      <td>1.9</td>\n",
       "      <td>1</td>\n",
       "      <td>2</td>\n",
       "      <td>3</td>\n",
       "      <td>1</td>\n",
       "    </tr>\n",
       "    <tr>\n",
       "      <th>4</th>\n",
       "      <td>71</td>\n",
       "      <td>0</td>\n",
       "      <td>2</td>\n",
       "      <td>110</td>\n",
       "      <td>265</td>\n",
       "      <td>1</td>\n",
       "      <td>0</td>\n",
       "      <td>130</td>\n",
       "      <td>0</td>\n",
       "      <td>0.0</td>\n",
       "      <td>2</td>\n",
       "      <td>1</td>\n",
       "      <td>2</td>\n",
       "      <td>0</td>\n",
       "    </tr>\n",
       "    <tr>\n",
       "      <th>...</th>\n",
       "      <td>...</td>\n",
       "      <td>...</td>\n",
       "      <td>...</td>\n",
       "      <td>...</td>\n",
       "      <td>...</td>\n",
       "      <td>...</td>\n",
       "      <td>...</td>\n",
       "      <td>...</td>\n",
       "      <td>...</td>\n",
       "      <td>...</td>\n",
       "      <td>...</td>\n",
       "      <td>...</td>\n",
       "      <td>...</td>\n",
       "      <td>...</td>\n",
       "    </tr>\n",
       "    <tr>\n",
       "      <th>298</th>\n",
       "      <td>50</td>\n",
       "      <td>1</td>\n",
       "      <td>2</td>\n",
       "      <td>140</td>\n",
       "      <td>233</td>\n",
       "      <td>0</td>\n",
       "      <td>1</td>\n",
       "      <td>163</td>\n",
       "      <td>0</td>\n",
       "      <td>0.6</td>\n",
       "      <td>1</td>\n",
       "      <td>1</td>\n",
       "      <td>3</td>\n",
       "      <td>1</td>\n",
       "    </tr>\n",
       "    <tr>\n",
       "      <th>299</th>\n",
       "      <td>51</td>\n",
       "      <td>1</td>\n",
       "      <td>2</td>\n",
       "      <td>94</td>\n",
       "      <td>227</td>\n",
       "      <td>0</td>\n",
       "      <td>1</td>\n",
       "      <td>154</td>\n",
       "      <td>1</td>\n",
       "      <td>0.0</td>\n",
       "      <td>2</td>\n",
       "      <td>1</td>\n",
       "      <td>3</td>\n",
       "      <td>0</td>\n",
       "    </tr>\n",
       "    <tr>\n",
       "      <th>300</th>\n",
       "      <td>69</td>\n",
       "      <td>1</td>\n",
       "      <td>3</td>\n",
       "      <td>160</td>\n",
       "      <td>234</td>\n",
       "      <td>1</td>\n",
       "      <td>0</td>\n",
       "      <td>131</td>\n",
       "      <td>0</td>\n",
       "      <td>0.1</td>\n",
       "      <td>1</td>\n",
       "      <td>1</td>\n",
       "      <td>2</td>\n",
       "      <td>0</td>\n",
       "    </tr>\n",
       "    <tr>\n",
       "      <th>301</th>\n",
       "      <td>46</td>\n",
       "      <td>1</td>\n",
       "      <td>0</td>\n",
       "      <td>120</td>\n",
       "      <td>249</td>\n",
       "      <td>0</td>\n",
       "      <td>0</td>\n",
       "      <td>144</td>\n",
       "      <td>0</td>\n",
       "      <td>0.8</td>\n",
       "      <td>2</td>\n",
       "      <td>0</td>\n",
       "      <td>3</td>\n",
       "      <td>1</td>\n",
       "    </tr>\n",
       "    <tr>\n",
       "      <th>302</th>\n",
       "      <td>63</td>\n",
       "      <td>0</td>\n",
       "      <td>1</td>\n",
       "      <td>140</td>\n",
       "      <td>195</td>\n",
       "      <td>0</td>\n",
       "      <td>1</td>\n",
       "      <td>179</td>\n",
       "      <td>0</td>\n",
       "      <td>0.0</td>\n",
       "      <td>2</td>\n",
       "      <td>2</td>\n",
       "      <td>2</td>\n",
       "      <td>0</td>\n",
       "    </tr>\n",
       "  </tbody>\n",
       "</table>\n",
       "<p>303 rows × 14 columns</p>\n",
       "</div>"
      ],
      "text/plain": [
       "     age  sex  cp  trestbps  chol  fbs  restecg  thalach  exang  oldpeak  \\\n",
       "0     57    1   0       150   276    0        0      112      1      0.6   \n",
       "1     59    1   3       170   288    0        0      159      0      0.2   \n",
       "2     57    1   2       150   126    1        1      173      0      0.2   \n",
       "3     56    0   0       134   409    0        0      150      1      1.9   \n",
       "4     71    0   2       110   265    1        0      130      0      0.0   \n",
       "..   ...  ...  ..       ...   ...  ...      ...      ...    ...      ...   \n",
       "298   50    1   2       140   233    0        1      163      0      0.6   \n",
       "299   51    1   2        94   227    0        1      154      1      0.0   \n",
       "300   69    1   3       160   234    1        0      131      0      0.1   \n",
       "301   46    1   0       120   249    0        0      144      0      0.8   \n",
       "302   63    0   1       140   195    0        1      179      0      0.0   \n",
       "\n",
       "     slope  ca  thal  sick  \n",
       "0        1   1     1     1  \n",
       "1        1   0     3     1  \n",
       "2        2   1     3     0  \n",
       "3        1   2     3     1  \n",
       "4        2   1     2     0  \n",
       "..     ...  ..   ...   ...  \n",
       "298      1   1     3     1  \n",
       "299      2   1     3     0  \n",
       "300      1   1     2     0  \n",
       "301      2   0     3     1  \n",
       "302      2   2     2     0  \n",
       "\n",
       "[303 rows x 14 columns]"
      ]
     },
     "execution_count": 45,
     "metadata": {},
     "output_type": "execute_result"
    }
   ],
   "source": [
    "data['sick'] = data['sick'].astype(int)\n",
    "data"
   ]
  },
  {
   "cell_type": "markdown",
   "metadata": {},
   "source": [
    "### Question 1.5\n",
    "Now that we have a feel for the data-types for each of the variables, plot histograms of each field and attempt to get a feel of how each variable performs (for example, is it a binary, or limited selection, or does it follow a gradient)? "
   ]
  },
  {
   "cell_type": "code",
   "execution_count": 46,
   "metadata": {},
   "outputs": [
    {
     "data": {
      "image/png": "[encoded data removed]",
      "text/plain": [
       "<Figure size 1440x1080 with 16 Axes>"
      ]
     },
     "metadata": {
      "needs_background": "light"
     },
     "output_type": "display_data"
    }
   ],
   "source": [
    "data.hist(figsize=(20,15), bins=25)\n",
    "plt.show()"
   ]
  },
  {
   "cell_type": "markdown",
   "metadata": {},
   "source": [
    "### Question 1.6\n",
    "We also want to make sure we are dealing with a balanced dataset. In this case, we want to confirm whether or not we have an equitable number of  sick and healthy individuals to ensure that our classifier will have a sufficiently balanced dataset to adequately classify the two. Plot a histogram specifically of the sick target, and conduct a count of the number of sick and healthy individuals and report on the results."
   ]
  },
  {
   "cell_type": "code",
   "execution_count": 47,
   "metadata": {},
   "outputs": [
    {
     "data": {
      "image/png": "[encoded data removed]",
      "text/plain": [
       "<Figure size 432x288 with 1 Axes>"
      ]
     },
     "metadata": {
      "needs_background": "light"
     },
     "output_type": "display_data"
    },
    {
     "data": {
      "text/plain": [
       "0    165\n",
       "1    138\n",
       "Name: sick, dtype: int64"
      ]
     },
     "execution_count": 47,
     "metadata": {},
     "output_type": "execute_result"
    }
   ],
   "source": [
    "data[\"sick\"].hist()\n",
    "plt.title(\"Number of healthy vs. sick individuals\")\n",
    "plt.xlabel(\"0: healthy, 1: sick\")\n",
    "plt.ylabel(\"Number of healthy and sick people\")\n",
    "plt.show()\n",
    "data[\"sick\"].value_counts()"
   ]
  },
  {
   "cell_type": "markdown",
   "metadata": {},
   "source": [
    "[Include description of findings here] E.g., As we can see, our sample contains xxx healthy individuals and yyy sick individuals, which reflects a [your conclusion here]."
   ]
  },
  {
   "cell_type": "markdown",
   "metadata": {},
   "source": [
    "From obtaining the value counts of the 'sick' column, we see that our sample contains 165 healthy individuals \n",
    "and 138 sick individuals which reflects that we have a somewhat equitable number of healthy and sick individuals\n",
    "to ensure that we can adequately classify the two. The ratio between healthy and sick is 165:138, which is about a \n",
    "1.2:1 ratio. The dataset is balanced."
   ]
  },
  {
   "cell_type": "markdown",
   "metadata": {},
   "source": [
    "### Question 1.7 \n",
    "Balanced datasets are important to ensure that classifiers train adequately and don't overfit, however arbitrary balancing of a dataset might introduce its own issues. Discuss some of the problems that might arise by artificially balancing a dataset."
   ]
  },
  {
   "cell_type": "markdown",
   "metadata": {},
   "source": [
    "[You answer here] E.g., artificially inflating numbers to balance a dataset may result in xxx. Concurrently showing statistically uncommon events as likely may result in yyy."
   ]
  },
  {
   "cell_type": "markdown",
   "metadata": {},
   "source": [
    "ANSWER: \n",
    "Balancing datasets leads to problems with bias; if the sample we want to downsample or inflate has problems with bias or variance, then trying to balance this set will magnify these problems with bias and variance.\n",
    "Whether we artifically inflate or downsample, the number of healthy or sick people will be biased since this does not represent the sample; there were factors behind why one of the classes has a very small amount of data, and we just erased this reason.\n",
    "There is a reason why the data is not balanced in the first place, and artificially inflating or downsampling datasets both erases real data and the reasons behind the data."
   ]
  },
  {
   "cell_type": "markdown",
   "metadata": {},
   "source": [
    "### Question 1.8\n",
    "Now that we have our dataframe prepared let's start analyzing our data. For this next question let's look at the correlations of our variables to our target value. First, map out the correlations between the values, and then discuss the relationships you observe. Do some research on the variables to understand why they may relate to the observed corellations (get some domain knowledge). Intuitively, why do you think some variables correlate more highly than others? Also discuss some pairs of variables that have very little correlation and why this might be the case for them.\n",
    "\n",
    "Hint: one possible approach you can use the `sns.heatmap()` function to map the corr() method. Note: if your heatmap is not entirely visible, [this link](https://github.com/mwaskom/seaborn/issues/1773#issuecomment-546466986) may be helpful in solving the issue."
   ]
  },
  {
   "cell_type": "code",
   "execution_count": 48,
   "metadata": {},
   "outputs": [
    {
     "data": {
      "image/png": "[encoded data removed]",
      "text/plain": [
       "<Figure size 1152x576 with 2 Axes>"
      ]
     },
     "metadata": {
      "needs_background": "light"
     },
     "output_type": "display_data"
    }
   ],
   "source": [
    "plt.figure(figsize=(16,8))\n",
    "corr_matrix = data.corr()\n",
    "heatmap = sns.heatmap(corr_matrix, annot=True, vmin=-1, vmax=1,cmap='BrBG',\n",
    "                     mask=np.triu(np.ones_like(corr_matrix, dtype=bool)))\n",
    "heatmap.set_title(\"Correlation Heatmap\", fontsize=16)\n",
    "plt.show()"
   ]
  },
  {
   "cell_type": "markdown",
   "metadata": {},
   "source": [
    "[Discuss correlations here] E.g., We find the the strongest direct correlation between the presence of exercise induced angina (also a binary), and depression induced by exercise relative to rest indicates a strong direct correlation. Both of these are understandable as heart failure under conditions of duress is a clear indication of heart disease. Conversely, maximum heart rate achieved is inversely correlated, likely as a healthy heart is unable to achieve a high heart rate."
   ]
  },
  {
   "cell_type": "markdown",
   "metadata": {},
   "source": [
    "DISCUSSION: The strongest correlation is a negative correlation between slope and oldpeak, which has correlation coefficient -0.58. This is because as the slope of the peak exercise increases (to upsloping), the depression induced by exercise relative to rest decreases (more exericise is related with people being happier exercising). Sick and cp (chest pain) are negatively correlated as well because when people have heart disease, they are more likely to not have chest pain (be asymptotic, value 0), as opposed to having chest pain (angina, non-anginal pain). Sick and thalach are also negatively correlated; if people are sick, the maximum heart rate achieved is lower, as a unhealhty heart cannot beat as fast.\n",
    "\n",
    "Positive correlations include ones between having heart disease and exang and oldpeak, meaning that having heart disease goes along with having exercise-induced engina and depression induced by exercise relative to rest. Slope and thalach are also positively correlated: people that exercise more have a higher upslope and a higher maximum heart rate (heart is healthier)."
   ]
  },
  {
   "cell_type": "markdown",
   "metadata": {},
   "source": [
    "## Part 2. Prepare the Data"
   ]
  },
  {
   "cell_type": "markdown",
   "metadata": {},
   "source": [
    "Before running our various learning methods, we need to do some additional prep to finalize our data. Specifically you'll have to cut the classification target from the data that will be used to classify, and then you'll have to divide the dataset into training and testing cohorts.\n",
    "\n",
    "We're going to ask you to prepare 2 batches of data:\n",
    "1. Raw numeric data that hasn't gone through any additional pre-processing.\n",
    "2. Data that you pipeline using your own selected methods. We will then feed both of these datasets into a classifier to showcase just how important this step can be!"
   ]
  },
  {
   "cell_type": "markdown",
   "metadata": {},
   "source": [
    "### Question 2.1\n",
    "Save the target column as a separate array and then drop it from the dataframe. "
   ]
  },
  {
   "cell_type": "code",
   "execution_count": 49,
   "metadata": {},
   "outputs": [],
   "source": [
    "heart_y = data['sick'].copy()\n",
    "heart_X = data.drop('sick', axis=1)"
   ]
  },
  {
   "cell_type": "markdown",
   "metadata": {},
   "source": [
    "### Question 2.2\n",
    "Create your 'Raw' unprocessed training data by dividing your dataframe into training and testing cohorts, with your training cohort consisting of 85% of your total dataframe (hint: use the `train_test_split` method). Output the resulting shapes of your training and testing samples to confirm that your split was successful."
   ]
  },
  {
   "cell_type": "code",
   "execution_count": 50,
   "metadata": {},
   "outputs": [
    {
     "name": "stdout",
     "output_type": "stream",
     "text": [
      "X_train shape: (257, 13)\n",
      "y_train shape: (257,)\n",
      "X_test shape: (46, 13)\n",
      "y_test shape: (46,)\n"
     ]
    }
   ],
   "source": [
    "X_train, X_test, y_train, y_test = train_test_split(heart_X, heart_y,\n",
    "                                                    test_size=0.15, random_state=42)\n",
    "print(\"X_train shape:\", X_train.shape)\n",
    "print(\"y_train shape:\", y_train.shape)\n",
    "print(\"X_test shape:\", X_test.shape)\n",
    "print(\"y_test shape:\", y_test.shape)"
   ]
  },
  {
   "cell_type": "markdown",
   "metadata": {},
   "source": [
    "### Question 2.3\n",
    "In lecture we learned about K-Nearest Neighbor. One thing we noted was because KNN relies on Euclidean distance, they are highly sensitive to the relative magnitude of different features. Let's see that in action! Implement a KNN algorithm on our data (use `scikit-learn`) and report the results. For this initial implementation simply use the default settings. Report on the accuracy of the resulting model."
   ]
  },
  {
   "cell_type": "code",
   "execution_count": 51,
   "metadata": {},
   "outputs": [
    {
     "data": {
      "text/plain": [
       "array([0, 0, 0, 1, 1, 0, 1, 0, 1, 0, 0, 0, 1, 0, 1, 0, 1, 0, 0, 0, 0, 1,\n",
       "       1, 0, 0, 1, 0, 0, 1, 1, 1, 0, 0, 1, 0, 0, 0, 1, 0, 0, 0, 1, 0, 1,\n",
       "       1, 0])"
      ]
     },
     "execution_count": 51,
     "metadata": {},
     "output_type": "execute_result"
    }
   ],
   "source": [
    "knn = KNeighborsClassifier()\n",
    "knn.fit(X_train, y_train)\n",
    "\n",
    "preds_test = knn.predict(X_test)\n",
    "preds_test"
   ]
  },
  {
   "cell_type": "code",
   "execution_count": 52,
   "metadata": {},
   "outputs": [
    {
     "name": "stdout",
     "output_type": "stream",
     "text": [
      "Accuracy:    0.673913\n"
     ]
    }
   ],
   "source": [
    "from sklearn.metrics import accuracy_score, f1_score, precision_score, recall_score\n",
    "from sklearn.metrics import roc_auc_score, roc_curve\n",
    "\n",
    "print(\"%-12s %f\" % ('Accuracy:', accuracy_score(y_test, preds_test)))"
   ]
  },
  {
   "cell_type": "markdown",
   "metadata": {},
   "source": [
    "### Question 2.4 \n",
    "Now implement a pipeline of your choice to transform the data. You can opt to handle null values and categoricals however you wish, however please scale your numeric features using standard scaler. Refer to Project 1 for a example pipeline that you can mimic."
   ]
  },
  {
   "cell_type": "code",
   "execution_count": 53,
   "metadata": {},
   "outputs": [
    {
     "data": {
      "text/plain": [
       "array([[ 0.29046364,  0.68100522,  1.04952029, ...,  1.        ,\n",
       "         0.        ,  0.        ],\n",
       "       [ 0.5110413 ,  0.68100522,  2.19177836, ...,  0.        ,\n",
       "         0.        ,  1.        ],\n",
       "       [ 0.29046364,  0.68100522,  1.04952029, ...,  0.        ,\n",
       "         0.        ,  1.        ],\n",
       "       ...,\n",
       "       [ 1.61392956,  0.68100522,  1.62064933, ...,  0.        ,\n",
       "         1.        ,  0.        ],\n",
       "       [-0.92271345,  0.68100522, -0.66386682, ...,  0.        ,\n",
       "         0.        ,  1.        ],\n",
       "       [ 0.9521966 , -1.46841752,  0.47839125, ...,  0.        ,\n",
       "         1.        ,  0.        ]])"
      ]
     },
     "execution_count": 53,
     "metadata": {},
     "output_type": "execute_result"
    }
   ],
   "source": [
    "from sklearn.compose import ColumnTransformer\n",
    "from sklearn.preprocessing import StandardScaler\n",
    "from sklearn.preprocessing import OneHotEncoder\n",
    "\n",
    "# age: Age in years\n",
    "# sex: (1 = male; 0 = female)\n",
    "# cp: Chest pain type (0 = asymptomatic; 1 = atypical angina; 2 = non-anginal pain; 3 = typical angina)\n",
    "# trestbps: Resting blood pressure (in mm Hg on admission to the hospital)\n",
    "# cholserum: Cholestoral in mg/dl\n",
    "# fbs Fasting blood sugar > 120 mg/dl (1 = true; 0 = false)\n",
    "# restecg: Resting electrocardiographic results (0= showing probable or definite left \n",
    "#    ventricular hypertrophy by Estes' criteria; 1 = normal; 2 = having ST-T wave abnormality\n",
    "#    (T wave inversions and/or ST elevation or depression of > 0.05 mV))\n",
    "# thalach: Maximum heart rate achieved\n",
    "# exang: Exercise induced angina (1 = yes; 0 = no)\n",
    "# oldpeakST: Depression induced by exercise relative to rest\n",
    "# slope: The slope of the peak exercise ST segment (0 = downsloping; 1 = flat; 2 = upsloping)\n",
    "# ca: Number of major vessels (0-4) colored by flourosopy\n",
    "# thal: 1 = normal; 2 = fixed defect; 3 = reversable defect\n",
    "\n",
    "# binary variables: sex, fbs, exang (shouldn't be one-hot encoded since it is redundant)\n",
    "# cateogrical variables to one hot encode are cp, restecg, slope, thal\n",
    "\n",
    "heart_num = heart_X.drop([\"cp\", \"restecg\", \"slope\", \"thal\"], axis=1)\n",
    "numerical_features = list(heart_num)\n",
    "categorical_features = [\"cp\", \"restecg\", \"slope\", \"thal\"]\n",
    "\n",
    "full_pipeline = ColumnTransformer([\n",
    "        (\"num\", StandardScaler(), numerical_features),\n",
    "        (\"cat\", OneHotEncoder(categories='auto'), categorical_features),\n",
    "    ])\n",
    "\n",
    "# the column thal has a few 0 values, but this should not be the case\n",
    "heart_X_pipeline_has_thal_0 = full_pipeline.fit_transform(heart_X)   # this does not have the sick column\n",
    "heart_X_pipeline_has_thal_0"
   ]
  },
  {
   "cell_type": "code",
   "execution_count": 54,
   "metadata": {},
   "outputs": [
    {
     "name": "stdout",
     "output_type": "stream",
     "text": [
      "[ 0.29046364  0.68100522  1.04952029  0.57466203 -0.41763453 -1.6463164\n",
      "  1.43548113 -0.37924438  0.26508221  1.          0.          0.\n",
      "  0.          1.          0.          0.          0.          1.\n",
      "  0.          0.          1.          0.          0.        ]\n",
      "23\n"
     ]
    }
   ],
   "source": [
    "print(heart_X_pipeline_has_thal_0[0])\n",
    "print(len(heart_X_pipeline_has_thal_0[0]))"
   ]
  },
  {
   "cell_type": "code",
   "execution_count": 55,
   "metadata": {},
   "outputs": [],
   "source": [
    "heart_X_pipeline = np.delete(heart_X_pipeline_has_thal_0, 19, axis=1)\n",
    "# this column has the values where thal = 0 (shouldn't be there)\n",
    "# thal is the last categorical value so its columns are 19-22 so thal = 0 is column 19"
   ]
  },
  {
   "cell_type": "markdown",
   "metadata": {},
   "source": [
    "### Question 2.5\n",
    "Now split your pipelined data into an 85/15 split and run the same KNN as you did previously. Report its accuracy, and discuss the implications of the different results you are obtaining."
   ]
  },
  {
   "cell_type": "code",
   "execution_count": 56,
   "metadata": {},
   "outputs": [
    {
     "name": "stdout",
     "output_type": "stream",
     "text": [
      "X_train shape: (257, 22)\n",
      "y_train shape: (257,)\n",
      "X_test shape: (46, 22)\n",
      "y_test shape: (46,)\n"
     ]
    }
   ],
   "source": [
    "X_pipeline_train, X_pipeline_test, y_pipeline_train, y_pipeline_test = train_test_split(\n",
    "                                                     heart_X_pipeline, \n",
    "                                                     heart_y, test_size=0.15,\n",
    "                                                     random_state=42)\n",
    "print(\"X_train shape:\", X_pipeline_train.shape)\n",
    "print(\"y_train shape:\", y_pipeline_train.shape)\n",
    "print(\"X_test shape:\", X_pipeline_test.shape)\n",
    "print(\"y_test shape:\", y_pipeline_test.shape)"
   ]
  },
  {
   "cell_type": "code",
   "execution_count": 57,
   "metadata": {},
   "outputs": [
    {
     "data": {
      "text/plain": [
       "array([0, 0, 0, 1, 1, 1, 1, 0, 1, 1, 0, 0, 1, 1, 1, 1, 1, 0, 0, 1, 0, 1,\n",
       "       1, 0, 1, 1, 0, 0, 0, 1, 1, 0, 1, 0, 1, 0, 0, 0, 0, 0, 0, 0, 1, 1,\n",
       "       1, 1])"
      ]
     },
     "execution_count": 57,
     "metadata": {},
     "output_type": "execute_result"
    }
   ],
   "source": [
    "knn_pipeline = KNeighborsClassifier()\n",
    "knn_pipeline.fit(X_pipeline_train, y_pipeline_train)\n",
    "\n",
    "preds_test_knn = knn_pipeline.predict(X_pipeline_test)\n",
    "preds_test_knn"
   ]
  },
  {
   "cell_type": "code",
   "execution_count": 58,
   "metadata": {},
   "outputs": [
    {
     "name": "stdout",
     "output_type": "stream",
     "text": [
      "Accuracy:    0.804348\n"
     ]
    }
   ],
   "source": [
    "print(\"%-12s %f\" % ('Accuracy:', accuracy_score(y_pipeline_test, preds_test_knn)))"
   ]
  },
  {
   "cell_type": "markdown",
   "metadata": {},
   "source": [
    "The results and accuracy are much better because we use the pipeline which uses a Standard Scaler on the numerical values and one hot encodes the categorical variables (excluding the binary variables becuase it would be redundant). The data has 22 columns instead of only 13 because we one hot encoded 4 categorical variables, which increased the number of columns by 9."
   ]
  },
  {
   "cell_type": "markdown",
   "metadata": {},
   "source": [
    "### Question 2.6 Hyperparameter Optimization\n",
    "As we saw in lecture, the KNN Algorithm includes an `n_neighbors` attribute that specifies how many neighbors to use when developing the cluster. (The default value is 5, which is what your previous model used.) Lets now letting `n` take on the values 1, 2, 3, 5, 7, 9, 10, 20, 50, 75, and 100. Run your model for each value and report the accuracy for each. Then, create a plot of accuracy versus `n_neighbors` and discuss how and why the accuracy changes as `n_neighbors` changes.\n",
    "\n",
    "HINT: leverage Python's ability to loop to run through the array and generate results so that you don't need to manually code each iteration."
   ]
  },
  {
   "cell_type": "code",
   "execution_count": 59,
   "metadata": {},
   "outputs": [
    {
     "name": "stdout",
     "output_type": "stream",
     "text": [
      "n = 1 accuracy: 0.7391304347826086\n",
      "n = 2 accuracy: 0.7608695652173914\n",
      "n = 3 accuracy: 0.8043478260869565\n",
      "n = 5 accuracy: 0.8043478260869565\n",
      "n = 7 accuracy: 0.8260869565217391\n",
      "n = 9 accuracy: 0.8043478260869565\n",
      "n = 10 accuracy: 0.8260869565217391\n",
      "n = 20 accuracy: 0.8043478260869565\n",
      "n = 50 accuracy: 0.8478260869565217\n",
      "n = 75 accuracy: 0.8695652173913043\n",
      "n = 100 accuracy: 0.8043478260869565\n"
     ]
    },
    {
     "data": {
      "image/png": "[encoded data removed]",
      "text/plain": [
       "<Figure size 432x288 with 1 Axes>"
      ]
     },
     "metadata": {
      "needs_background": "light"
     },
     "output_type": "display_data"
    }
   ],
   "source": [
    "numbers = [1, 2, 3, 5, 7, 9, 10, 20, 50, 75, 100]\n",
    "acc_list = []\n",
    "for n in numbers:\n",
    "    knn = KNeighborsClassifier(n_neighbors=n)\n",
    "    knn_classifier = knn.fit(X_pipeline_train, y_pipeline_train)\n",
    "    preds_test_knn = knn_classifier.predict(X_pipeline_test)\n",
    "    acc = accuracy_score(y_pipeline_test, preds_test_knn)\n",
    "    acc_list.append(acc)\n",
    "    print(\"n = %d accuracy:\" %n, acc)\n",
    "\n",
    "plt.scatter(numbers, acc_list)\n",
    "plt.title(\"Test accuracy vs. number of neighbors\")\n",
    "plt.xlabel(\"Number of Neighbors\")\n",
    "plt.ylabel(\"Accuracy (%)\")\n",
    "plt.show()"
   ]
  },
  {
   "cell_type": "markdown",
   "metadata": {},
   "source": [
    "From the plot, the values of n with highest accuracy are 50 and 75. This is because classifying with more closest neighbors makes the decision on where to classify the value easier since we should put data points with similar values with their closest neighbors. If we decide on less closest neighbors, then these values might not be completely similar since we are only checking a very limited amount of neighbors, and we may exclude other close neighbors. This would be overfitting since it gives us a non-smooth decision surface. n = 100 (and other high n values) does not have a high accuracy because if there are too many closest neighbors to classify with, then it is underfitting and the decision surface gets too smooth and all the data points are placed in classes that are too large and not that similar."
   ]
  },
  {
   "cell_type": "markdown",
   "metadata": {},
   "source": [
    "## Part 3. Additional Learning Methods\n",
    "So we have a model that seems to work well. But let's see if we can do better! To do so we'll employ multiple learning methods and compare results. Throughout this part, use the data that was produced by your pipeline earlier."
   ]
  },
  {
   "cell_type": "markdown",
   "metadata": {},
   "source": [
    "### Linear Decision Boundary Methods\n",
    "We'll spend some time exploring logistic regression and SVM methods."
   ]
  },
  {
   "cell_type": "markdown",
   "metadata": {},
   "source": [
    "### Question 3.1 Logistic Regression\n",
    "Let's now try a classifier, we introduced in lecture, one that's well known for handling linear models: logistic regression. Logistic regression is a statistical model that in its basic form uses a logistic function to model a binary dependent variable.  Implement a logistic regression classifier on your data with the default settings. Report accuracy, precision, recall, and F1 score and plot a confusion matrix."
   ]
  },
  {
   "cell_type": "code",
   "execution_count": 60,
   "metadata": {},
   "outputs": [],
   "source": [
    "from sklearn.linear_model import LogisticRegression\n",
    "\n",
    "logreg = LogisticRegression()\n",
    "logreg.fit(X_pipeline_train, y_pipeline_train)\n",
    "\n",
    "preds_test_log = logreg.predict(X_pipeline_test)\n",
    "preds_test_prob_log = logreg.predict_proba(X_pipeline_test)"
   ]
  },
  {
   "cell_type": "code",
   "execution_count": 61,
   "metadata": {},
   "outputs": [
    {
     "name": "stdout",
     "output_type": "stream",
     "text": [
      "Accuracy:    0.869565\n",
      "Precision:   0.952381\n",
      "Recall:      0.800000\n",
      "F1:          0.869565\n"
     ]
    },
    {
     "data": {
      "image/png": "[encoded data removed]",
      "text/plain": [
       "<Figure size 432x288 with 2 Axes>"
      ]
     },
     "metadata": {
      "needs_background": "light"
     },
     "output_type": "display_data"
    }
   ],
   "source": [
    "print(\"%-12s %f\" % ('Accuracy:', accuracy_score(y_pipeline_test, preds_test_log)))\n",
    "print(\"%-12s %f\" % ('Precision:', precision_score(y_pipeline_test, preds_test_log)))\n",
    "print(\"%-12s %f\" % ('Recall:', recall_score(y_pipeline_test, preds_test_log)))\n",
    "print(\"%-12s %f\" % ('F1:', f1_score(y_pipeline_test, preds_test_log)))\n",
    "draw_confusion_matrix(y_pipeline_test, preds_test_log, ['Healthy', 'Sick'])"
   ]
  },
  {
   "cell_type": "markdown",
   "metadata": {},
   "source": [
    "### Question 3.2\n",
    "Discuss what each measure (accuracy, precision, recall, and F1 score) is reporting, why they are different, and why are each of these measures is significant. Explore why we might choose to evaluate the performance of differing models differently based on these factors. Try to give some specific examples of scenarios in which you might value one of these measures over the others.\n"
   ]
  },
  {
   "cell_type": "markdown",
   "metadata": {},
   "source": [
    "Firstly, for this specific data set, it is way worse to predict someone to be healthy when they are actually sick (worst case: someone thinks they are healthy when they are actually sick and they die) than it is to predict someone to be sick when they are actually healthy (worst case: the patient just needs to go to the hospital again to get a second opinion). So, we want to keep false negatives as low as possible (want a really high recall score if possible). It is cool if precision is really high, but this just means that the number of false positives is low, which is not as important as getting the number of false negatives really low.\n",
    "\n",
    "Accuracy is the fraction of predictions the model gets right (number of correct predictions / total number of predictions). Obviously, we want this value to be high for all models, especially when we care more about true positives and true negatives.\n",
    "\n",
    "Precision is the fraction of true positives over the total number of positive predictions (true positives / true + false positvies); it looks at what proportion of positive predictions were actually correct. A higher precision score means a lower rate of false positives, which is important for models that don't care about false negatives. An example of such model is an email system, where we want to lower the number of times we send an important email to a spam folder (false positive) but we don't really care if we have a somewhat high number of false negatives (sending spam mail to the inbox).\n",
    "\n",
    "Recall is the fraction of true positive observations over all positive observations (true positives / true positives + false negatives). We value recall most for models like the one we are using, since we want to decrease false negatives (predicting someone is healthy when they are actually sick).\n",
    "\n",
    "F1 is the weighted average of precision and recall and considers both false positives and false negatives. It is the best score to look at if we want generally high performance minimizing both error types, so we would value this measure over the others if we just want to minimize both false negatives and false positives.\n"
   ]
  },
  {
   "cell_type": "markdown",
   "metadata": {},
   "source": [
    "### Question 3.3\n",
    "Graph the ROC curve of the logistic regression model."
   ]
  },
  {
   "cell_type": "code",
   "execution_count": 62,
   "metadata": {},
   "outputs": [
    {
     "name": "stdout",
     "output_type": "stream",
     "text": [
      "AUC: 0.9295238095238095\n"
     ]
    },
    {
     "data": {
      "image/png": "[encoded data removed]",
      "text/plain": [
       "<Figure size 432x288 with 1 Axes>"
      ]
     },
     "metadata": {
      "needs_background": "light"
     },
     "output_type": "display_data"
    }
   ],
   "source": [
    "plt.figure()\n",
    "fpr, tpr, thresholds = roc_curve(y_pipeline_test, preds_test_prob_log[:, 1])\n",
    "plt.plot(fpr, tpr)\n",
    "plt.xlabel('False Positive Rate')\n",
    "plt.ylabel('True Positive Rate')\n",
    "plt.title('Test ROC Curve')\n",
    "\n",
    "print(\"AUC:\", roc_auc_score(y_pipeline_test, preds_test_prob_log[:, 1]))"
   ]
  },
  {
   "cell_type": "markdown",
   "metadata": {},
   "source": [
    "### Question 3.4\n",
    "Describe what an ROC curve is and what your ROC graph output is showing."
   ]
  },
  {
   "cell_type": "markdown",
   "metadata": {},
   "source": [
    "An ROC curve is a graph created by plotting the true positive rate against the false positive rate at different classification thresholds. For the above ROC curve, the auc is high (close to 1), so the test is very useful and it has a good measure of separability between true positives and true negatives (means there is a small number of false positives and false negatives)."
   ]
  },
  {
   "cell_type": "markdown",
   "metadata": {},
   "source": [
    "### Question 3.5\n",
    "Let's tweak a few settings. Set your solver to `newton-cg`, your `max_iter=4`, and `penalty='none'`, and rerun your model. Report out the same metrics (the 4 + confusion matrix) as before. How do your results change?"
   ]
  },
  {
   "cell_type": "code",
   "execution_count": 63,
   "metadata": {},
   "outputs": [
    {
     "name": "stderr",
     "output_type": "stream",
     "text": [
      "C:\\Users\\15626\\anaconda3\\lib\\site-packages\\sklearn\\utils\\optimize.py:210: ConvergenceWarning: newton-cg failed to converge. Increase the number of iterations.\n",
      "  warnings.warn(\n"
     ]
    }
   ],
   "source": [
    "logreg_newton = LogisticRegression(solver='newton-cg', max_iter=4, penalty='none')\n",
    "logreg_newton.fit(X_pipeline_train, y_pipeline_train)\n",
    "\n",
    "preds_test_log_n = logreg_newton.predict(X_pipeline_test)\n",
    "preds_test_prob_log_n = logreg_newton.predict_proba(X_pipeline_test)"
   ]
  },
  {
   "cell_type": "code",
   "execution_count": 64,
   "metadata": {},
   "outputs": [
    {
     "name": "stdout",
     "output_type": "stream",
     "text": [
      "Accuracy:    0.847826\n",
      "Precision:   0.909091\n",
      "Recall:      0.800000\n",
      "F1:          0.851064\n"
     ]
    },
    {
     "data": {
      "image/png": "[encoded data removed]",
      "text/plain": [
       "<Figure size 432x288 with 2 Axes>"
      ]
     },
     "metadata": {
      "needs_background": "light"
     },
     "output_type": "display_data"
    }
   ],
   "source": [
    "print(\"%-12s %f\" % ('Accuracy:', accuracy_score(y_pipeline_test, preds_test_log_n)))\n",
    "print(\"%-12s %f\" % ('Precision:', precision_score(y_pipeline_test, preds_test_log_n)))\n",
    "print(\"%-12s %f\" % ('Recall:', recall_score(y_pipeline_test, preds_test_log_n)))\n",
    "print(\"%-12s %f\" % ('F1:', f1_score(y_pipeline_test, preds_test_log_n)))\n",
    "draw_confusion_matrix(y_pipeline_test, preds_test_log_n, ['Healthy', 'Sick'])"
   ]
  },
  {
   "cell_type": "markdown",
   "metadata": {},
   "source": [
    "### Question 3.6\n",
    "Did you notice that when you ran the previous model you got the following warning: `ConvergenceWarning: The max_iter was reached which means the coef_ did not converge.` Check the documentation and see if you can implement a fix for this problem, and again report your results.\n",
    "\n",
    "Note: if you did not get a warning, which might happen to those running this notebook in VSCode, please try running the following code, as described [here](https://github.com/microsoft/vscode-jupyter/issues/1312):\n",
    "```\n",
    "import warnings\n",
    "warnings.simplefilter(action=\"default\")\n",
    "```"
   ]
  },
  {
   "cell_type": "code",
   "execution_count": 65,
   "metadata": {},
   "outputs": [
    {
     "name": "stdout",
     "output_type": "stream",
     "text": [
      "Accuracy:    0.826087\n",
      "Precision:   0.904762\n",
      "Recall:      0.760000\n",
      "F1:          0.826087\n"
     ]
    },
    {
     "data": {
      "image/png": "[encoded data removed]",
      "text/plain": [
       "<Figure size 432x288 with 2 Axes>"
      ]
     },
     "metadata": {
      "needs_background": "light"
     },
     "output_type": "display_data"
    }
   ],
   "source": [
    "logreg_newton = LogisticRegression(solver='newton-cg', max_iter=100000, penalty='none')\n",
    "logreg_newton.fit(X_pipeline_train, y_pipeline_train)\n",
    "\n",
    "preds_test_log_n = logreg_newton.predict(X_pipeline_test)\n",
    "preds_test_prob_log_n = logreg_newton.predict_proba(X_pipeline_test)\n",
    "\n",
    "print(\"%-12s %f\" % ('Accuracy:', accuracy_score(y_pipeline_test, preds_test_log_n)))\n",
    "print(\"%-12s %f\" % ('Precision:', precision_score(y_pipeline_test, preds_test_log_n)))\n",
    "print(\"%-12s %f\" % ('Recall:', recall_score(y_pipeline_test, preds_test_log_n)))\n",
    "print(\"%-12s %f\" % ('F1:', f1_score(y_pipeline_test, preds_test_log_n)))\n",
    "draw_confusion_matrix(y_pipeline_test, preds_test_log_n, ['Healthy', 'Sick'])"
   ]
  },
  {
   "cell_type": "markdown",
   "metadata": {},
   "source": [
    "### Question 3.7\n",
    "Explain what you changed and why this fixed the `ConvergenceWarning` problem. Are there any downsides of your fix? How might you have harmed the outcome instead? What other parameters you set may be playing a factor in affecting the results?"
   ]
  },
  {
   "cell_type": "markdown",
   "metadata": {},
   "source": [
    "I increased the max_iter to 100000, since only iterating 4 items led to the optimization process being unable to converge. \n",
    "However, now the outcome is worse (with lower scores across the board). This is because setting the max iterations to a higher number is a band-aid fix for a bigger problem; if the optimization process does not converge for a small number of iterations, it is due to other problems like un-normalized training data, inappropriate regularization weights, strong correlations in the features, etc.; increasing the max iterations to force the optimization process to converge is a bad solution opposed to fixing the above problems. \n",
    "\n",
    "Another parameter that can be affecting the results is setting the penalty to `none`; we are not doing Lasso or Ridge regularization. Since there is no penalty, some variables with large impact on the data lead to an overfitting model; Ridge regression reduces the impact any one feature has on the model. Additionally, if there are a lot of variables, this can increase the complexity of the model as it keeps all variables with even the smallest contributions (lasso \"zeroes out\" some coefficients, reducing the model complexity)."
   ]
  },
  {
   "cell_type": "markdown",
   "metadata": {},
   "source": [
    "### Question 3.8\n",
    "Rerun your logistic classifier, but modify the `penalty='l1'`, `solver='liblinear'` and again report the results.\n"
   ]
  },
  {
   "cell_type": "code",
   "execution_count": 66,
   "metadata": {},
   "outputs": [
    {
     "name": "stdout",
     "output_type": "stream",
     "text": [
      "Accuracy:    0.869565\n",
      "Precision:   0.952381\n",
      "Recall:      0.800000\n",
      "F1:          0.869565\n"
     ]
    },
    {
     "data": {
      "image/png": "[encoded data removed]",
      "text/plain": [
       "<Figure size 432x288 with 2 Axes>"
      ]
     },
     "metadata": {
      "needs_background": "light"
     },
     "output_type": "display_data"
    }
   ],
   "source": [
    "logreg_liblinear = LogisticRegression(solver='liblinear', max_iter=100000, penalty='l1') # lasso regression\n",
    "logreg_liblinear.fit(X_pipeline_train, y_pipeline_train)\n",
    "\n",
    "preds_test_log_l = logreg_liblinear.predict(X_pipeline_test)\n",
    "preds_test_prob_log_l = logreg_liblinear.predict_proba(X_pipeline_test)\n",
    "\n",
    "print(\"%-12s %f\" % ('Accuracy:', accuracy_score(y_pipeline_test, preds_test_log_l)))\n",
    "print(\"%-12s %f\" % ('Precision:', precision_score(y_pipeline_test, preds_test_log_l)))\n",
    "print(\"%-12s %f\" % ('Recall:', recall_score(y_pipeline_test, preds_test_log_l)))\n",
    "print(\"%-12s %f\" % ('F1:', f1_score(y_pipeline_test, preds_test_log_l)))\n",
    "draw_confusion_matrix(y_pipeline_test, preds_test_log_l, ['Healthy', 'Sick'])"
   ]
  },
  {
   "cell_type": "markdown",
   "metadata": {},
   "source": [
    "### Question 3.9\n",
    "Explain what what the two solver approaches are, and why the model with `liblinear` and `l1` penalty likely produced the optimal outcome."
   ]
  },
  {
   "cell_type": "markdown",
   "metadata": {},
   "source": [
    "The model with `liblinear` and `l1` penalty produced the optimal outcome (same outcome as LogisticRegression with default parameters) compared to the model with `newton-cg` and penalty `none`.\n",
    "\n",
    "Firstly, `liblinear` is a linear classification that supports logistic regression and linear support vector machines, while `newton-cg` is a classification using quadratic function minimization. `liblinear` uses a one-vs-rest fashion for the optimization problem, which trains separate binary classifiers for all classes. `newton-cg` cannot use the `l1` parameter for the penalty. \n",
    "\n",
    "Secondly, including a penalty, specifically, a lasso regression term, as opposed to having no penalty reduces the complexity of the model by shrinking the less important features' coefficients to zero, thus removing some features altogether; this way, the model is not under effects of overfitting; the model that uses solver `newton-cg` might be under the effects of overfitting."
   ]
  },
  {
   "cell_type": "markdown",
   "metadata": {},
   "source": [
    "### Question 3.10\n",
    "We also played around with different penalty terms (none, L1 etc.) Describe what the purpose of a penalty term is and the difference between L1 and L2 penalties."
   ]
  },
  {
   "cell_type": "markdown",
   "metadata": {},
   "source": [
    "No penalty: we are not doing Lasso or Ridge regression. Since there is no penalty, variables with large coefficients can have a large effect on the data (Ridge regression reduces the impact any one feature has on the model) and if there are a lot of variables, this can increase the complexity of the model as it keeps all variables with even the smallest contributions (lasso \"zeroes out\" some coefficients, reducing the model complexity). The purpose of the penalty is to reduce the impact any one feature can have on the model and/or to reduce the complexity of the model by zeroeing out some variable coefficients that have very minor contributions. Without having a penalty, the model is subject to overfitting.\n",
    "\n",
    "L1 penalty: Lasso regression penalizes the optimization function by looking at the magnitudes of the variables' coefficients and shrinks the less important features' coefficients to zero; thus, lasso regression removes some features altogether. This reduces the complexity of the model by keeping only the most significant features (since the least important features will be zeroed out). Normally, we like to use Lasso regression, as it supresses extreme parameter values and completely neglects insignificant features for the evaluation. \n",
    "\n",
    "L2 penalty: Ridge regression looks at the squares of the coefficients of the variables and shrinks the coefficients so variables that have a large impact on the data have their impact reduced, close to zero for some. However, all the variables are incorporated in the model."
   ]
  },
  {
   "cell_type": "markdown",
   "metadata": {},
   "source": [
    "\n",
    "\n",
    "\n",
    "\n",
    "### Question 3.11 Support Vector Machine (SVM)\n",
    "\n",
    "A support vector machine (SVM) is a discriminative classifier formally defined by a separating hyperplane. In other words, given labeled training data (supervised learning), the algorithm outputs an optimal hyperplane which categorizes new examples. In 2-D space this hyperplane is a line dividing a plane in two parts where in each class lay in either side.\n",
    "\n",
    "Implement an SVM classifier on your pipelined data (recommend using `scikit-learn`) For this implementation you can simply use the default settings, but set `probability=True`."
   ]
  },
  {
   "cell_type": "code",
   "execution_count": 67,
   "metadata": {},
   "outputs": [],
   "source": [
    "svm_classifier = SVC(probability=True)\n",
    "svm_classifier.fit(X_pipeline_train, y_pipeline_train)\n",
    "preds_test_svm = svm_classifier.predict(X_pipeline_test)"
   ]
  },
  {
   "cell_type": "markdown",
   "metadata": {},
   "source": [
    "### Question 3.12 \n",
    "Report the accuracy, precision, recall, F1 Score, and confusion matrix of the resulting model."
   ]
  },
  {
   "cell_type": "code",
   "execution_count": 68,
   "metadata": {},
   "outputs": [
    {
     "name": "stdout",
     "output_type": "stream",
     "text": [
      "Accuracy:    0.804348\n",
      "Precision:   0.833333\n",
      "Recall:      0.800000\n",
      "F1:          0.816327\n"
     ]
    },
    {
     "data": {
      "image/png": "[encoded data removed]",
      "text/plain": [
       "<Figure size 432x288 with 2 Axes>"
      ]
     },
     "metadata": {
      "needs_background": "light"
     },
     "output_type": "display_data"
    }
   ],
   "source": [
    "print(\"%-12s %f\" % ('Accuracy:', accuracy_score(y_pipeline_test, preds_test_svm)))\n",
    "print(\"%-12s %f\" % ('Precision:', precision_score(y_pipeline_test, preds_test_svm)))\n",
    "print(\"%-12s %f\" % ('Recall:', recall_score(y_pipeline_test, preds_test_svm)))\n",
    "print(\"%-12s %f\" % ('F1:', f1_score(y_pipeline_test, preds_test_svm)))\n",
    "draw_confusion_matrix(y_pipeline_test, preds_test_svm, ['Healthy', 'Sick'])"
   ]
  },
  {
   "cell_type": "markdown",
   "metadata": {},
   "source": [
    "### Question 3.13\n",
    "Rerun your SVM, but now modify your model parameter kernel to be `linear`. Again report your accuracy, precision, recall, F1 scores, and confusion matrix and plot the new ROC curve.  "
   ]
  },
  {
   "cell_type": "code",
   "execution_count": 69,
   "metadata": {},
   "outputs": [
    {
     "name": "stdout",
     "output_type": "stream",
     "text": [
      "Accuracy:    0.869565\n",
      "Precision:   0.952381\n",
      "Recall:      0.800000\n",
      "F1:          0.869565\n"
     ]
    },
    {
     "data": {
      "image/png": "[encoded data removed]",
      "text/plain": [
       "<Figure size 432x288 with 2 Axes>"
      ]
     },
     "metadata": {
      "needs_background": "light"
     },
     "output_type": "display_data"
    }
   ],
   "source": [
    "svm_classifier = SVC(probability=True, kernel='linear')\n",
    "svm_classifier.fit(X_pipeline_train, y_pipeline_train)\n",
    "\n",
    "preds_test_svm = svm_classifier.predict(X_pipeline_test)\n",
    "preds_test_prob_svm = svm_classifier.predict_proba(X_pipeline_test)\n",
    "\n",
    "print(\"%-12s %f\" % ('Accuracy:', accuracy_score(y_pipeline_test, preds_test_svm)))\n",
    "print(\"%-12s %f\" % ('Precision:', precision_score(y_pipeline_test, preds_test_svm)))\n",
    "print(\"%-12s %f\" % ('Recall:', recall_score(y_pipeline_test, preds_test_svm)))\n",
    "print(\"%-12s %f\" % ('F1:', f1_score(y_pipeline_test, preds_test_svm)))\n",
    "draw_confusion_matrix(y_pipeline_test, preds_test_svm, ['Healthy', 'Sick'])"
   ]
  },
  {
   "cell_type": "code",
   "execution_count": 70,
   "metadata": {},
   "outputs": [
    {
     "name": "stdout",
     "output_type": "stream",
     "text": [
      "Test auc: 0.9257142857142856\n"
     ]
    },
    {
     "data": {
      "image/png": "[encoded data removed]",
      "text/plain": [
       "<Figure size 432x288 with 1 Axes>"
      ]
     },
     "metadata": {
      "needs_background": "light"
     },
     "output_type": "display_data"
    }
   ],
   "source": [
    "plt.figure()\n",
    "fpr, tpr, thresholds = roc_curve(y_pipeline_test, preds_test_prob_svm[:, 1])\n",
    "plt.plot(fpr, tpr)\n",
    "plt.xlabel('False Positive Rate')\n",
    "plt.ylabel('True Positive Rate')\n",
    "plt.title('Test ROC Curve')\n",
    "\n",
    "print(\"Test auc:\", roc_auc_score(y_pipeline_test, preds_test_prob_svm[:, 1]))"
   ]
  },
  {
   "cell_type": "markdown",
   "metadata": {},
   "source": [
    "### Question 3.14\n",
    "Explain the what the new results you've achieved mean. Read the documentation to understand what you've changed about your model and explain why changing that input parameter might impact the results in the manner you've observed."
   ]
  },
  {
   "cell_type": "markdown",
   "metadata": {},
   "source": [
    "The results are the same as for default LogisticRegression and LogisticRegression with `liblinear` solver, meaning that these are the best three models for accuracy, precision, recall, and F1 (so best models overall).\n",
    "\n",
    "As for the Support Vector Machine classifier, we changed the kernel to be `linear`, and this led to better results than the default SVM classifier, which uses default kernel `rbf` (radial basis function) which is optimal for non-linear problems, while kernel `linear` is optimal for linear problems. In this case, the default SVC that uses kernel `rbf` overfits the model, so the algorithm cannot be generalized."
   ]
  },
  {
   "cell_type": "markdown",
   "metadata": {},
   "source": [
    "### Question 3.15\n",
    "Both logistic regression and linear SVM are trying to classify data points using a linear decision boundary. How do they differ in how they try to find this boundary?\n"
   ]
  },
  {
   "cell_type": "markdown",
   "metadata": {},
   "source": [
    "They differ in finding the linear decision boundary because logistic regression uses the sigmoid function to find the relationship between variables while SVM creates a hyperplane decision boundary which separates data into classes and achieves linear separation by mapping the data to a higher dimensional space (kernel function).\n",
    "\n",
    "SVM tries to maximize the margin (distance between the hyperplane and the support vectors) that separates the classes; it is based on geometric properties of the data. Logistic regression on the other hand is based on statistical properties of the data; it is a generalized linear regression approach that regresses for the probability of a categorical outcome (not a continuous y)."
   ]
  },
  {
   "cell_type": "markdown",
   "metadata": {},
   "source": [
    "### Question 3.16\n",
    "We also learned about linear regression in class. Why is linear regression not a suitable model for this classification task?"
   ]
  },
  {
   "cell_type": "markdown",
   "metadata": {},
   "source": [
    "We cannot use linear regression for this classification task because it is a binary classification task of a categorical variable. Linear regression works well when y is a continuous variable, but when y is a categorical binary variable (either 0 or 1), linear regression is unable to classify each observation into a category; it just tries to make a line. This means that it would try to classify observations on a line between 0 and 1 (and it would also have nonsensical values above 1 or below 0) instead of classifying observations as either a 0 or 1, so some data points will be predicted to have a sick value of, say 0.5, which just does not make sense in the context of a categorical variable."
   ]
  },
  {
   "cell_type": "markdown",
   "metadata": {},
   "source": [
    "### Statistical Classification Methods\n",
    "Now we'll explore a statistical classification method, the naive Bayes classifier.\n",
    "\n",
    "Naive Bayes methods are a set of supervised learning algorithms based on applying Bayes' theorem with the \"naive\" assumption of conditional independence between every pair of features given the value of the class variable. Bayes' theorem states the following relationship, given class variable $C_k$ and dependent feature vector $\\bold{x} = [x_1, x_2, ..., x_n]^T$, $$P(C_k | \\bold{x}) = \\frac{P(C_k)P(\\bold{x} | C_k)}{P(\\bold{x})}$$\n",
    "\n",
    "Note for our purposes, there are 2 possible classes (sick or not sick), so $k$ ranges from 1 to 2."
   ]
  },
  {
   "cell_type": "markdown",
   "metadata": {},
   "source": [
    "### Question 3.17\n",
    "Implement a naive Bayes Classifier on the pipelined data. Use the `GaussianNB` model. For this model, simply use the default parameters. Report out the number of mislabeled points that result (i.e., both the false positives and false negatives), along with the accuracy, precision, recall, F1 Score and confusion matrix. Also, plot an ROC curve."
   ]
  },
  {
   "cell_type": "code",
   "execution_count": 71,
   "metadata": {},
   "outputs": [
    {
     "name": "stdout",
     "output_type": "stream",
     "text": [
      "Accuracy:    0.673913\n",
      "Precision:   0.916667\n",
      "Recall:      0.440000\n",
      "F1:          0.594595\n"
     ]
    },
    {
     "data": {
      "image/png": "[encoded data removed]",
      "text/plain": [
       "<Figure size 432x288 with 2 Axes>"
      ]
     },
     "metadata": {
      "needs_background": "light"
     },
     "output_type": "display_data"
    }
   ],
   "source": [
    "from sklearn.naive_bayes import GaussianNB\n",
    "\n",
    "gaussian = GaussianNB()\n",
    "gaussian.fit(X_pipeline_train, y_pipeline_train)\n",
    "\n",
    "preds_test_gaussian = gaussian.predict(X_pipeline_test)\n",
    "preds_test_prob_gaussian = gaussian.predict_proba(X_pipeline_test)\n",
    "\n",
    "print(\"%-12s %f\" % ('Accuracy:', accuracy_score(y_pipeline_test, preds_test_gaussian)))\n",
    "print(\"%-12s %f\" % ('Precision:', precision_score(y_pipeline_test, preds_test_gaussian)))\n",
    "print(\"%-12s %f\" % ('Recall:', recall_score(y_pipeline_test, preds_test_gaussian)))\n",
    "print(\"%-12s %f\" % ('F1:', f1_score(y_pipeline_test, preds_test_gaussian)))\n",
    "draw_confusion_matrix(y_pipeline_test, preds_test_gaussian, ['Healthy', 'Sick'])"
   ]
  },
  {
   "cell_type": "code",
   "execution_count": 72,
   "metadata": {},
   "outputs": [
    {
     "name": "stdout",
     "output_type": "stream",
     "text": [
      "Test auc: 0.8628571428571429\n"
     ]
    },
    {
     "data": {
      "image/png": "[encoded data removed]",
      "text/plain": [
       "<Figure size 432x288 with 1 Axes>"
      ]
     },
     "metadata": {
      "needs_background": "light"
     },
     "output_type": "display_data"
    }
   ],
   "source": [
    "plt.figure()\n",
    "fpr, tpr, thresholds = roc_curve(y_pipeline_test, preds_test_prob_gaussian[:, 1])\n",
    "plt.plot(fpr, tpr)\n",
    "plt.xlabel('False Positive Rate')\n",
    "plt.ylabel('True Positive Rate')\n",
    "plt.title('Test ROC Curve')\n",
    "\n",
    "print(\"Test auc:\", roc_auc_score(y_pipeline_test, preds_test_prob_gaussian[:, 1]))"
   ]
  },
  {
   "cell_type": "markdown",
   "metadata": {},
   "source": [
    "### Question 3.18\n",
    "Discuss the observed results. What assumptions about our data are we making here and why might those be inaccurate?"
   ]
  },
  {
   "cell_type": "markdown",
   "metadata": {},
   "source": [
    "The results for the Gaussian Naive Bayes classifier are very bad, with recall being really low (a lot of false negatives - the model predicts people are healthy when they are actually sick).\n",
    "\n",
    "We are making assumptions that our data follows a normal distribution and that our data features are continuous (this is inaccurate as a large amount of features in the dataset are categorical). Another assumption we make is that the features are independent from each other; we saw from the correlation matrix that some features are moderately correlated."
   ]
  },
  {
   "cell_type": "markdown",
   "metadata": {},
   "source": [
    "## Part 4: Cross Validation and Model Selection\n",
    "You've sampled a number of different classification techniques, leveraging nearest neighbors, linear classifiers, and statistical classifiers. You've also tweaked with a few parameters for those models to optimize performance. Based on these experiments you should have settled on a particular model that performs most optimally on this dataset. Before our work is done though, we want to ensure that our results are not the result of the random sampling of our data we did with the train-test split. To check this, we will conduct a K-fold cross validation of our top 2 performing models, assess their cumulative performance across folds (report accuracy, precision, recall, and F1 score), and determine the best model for our particular data."
   ]
  },
  {
   "cell_type": "markdown",
   "metadata": {},
   "source": [
    "### Question 4.1\n",
    "Select your top 2 performing models and run a 10-Fold cross validation on both. Report your best performing model.\n"
   ]
  },
  {
   "cell_type": "code",
   "execution_count": 73,
   "metadata": {},
   "outputs": [
    {
     "name": "stdout",
     "output_type": "stream",
     "text": [
      "Logrithmic Regression Accuracy: 83.49%\n",
      "Logrithmic Regression Precision: 83.15%\n",
      "Logrithmic Regression Recall: 82.96%\n",
      "Logrithmic Regression F1: 82.76%\n",
      "\n",
      "SVM Regression Accuracy: 82.16%\n",
      "SVM Regression Precision: 82.12%\n",
      "SVM Regression Recall: 81.47%\n",
      "SVM Regression F1: 81.25%\n"
     ]
    }
   ],
   "source": [
    "from sklearn.model_selection import KFold\n",
    "from sklearn import model_selection\n",
    "from sklearn.model_selection import cross_validate\n",
    "\n",
    "kfold = model_selection.KFold(n_splits=10, random_state=42, shuffle=True) \n",
    "scoring = {'acc': 'accuracy',\n",
    "           'prec': 'precision_macro',\n",
    "           'rec': 'recall_macro',\n",
    "           'f1': 'f1_macro'}\n",
    "\n",
    "clf = LogisticRegression(solver='liblinear', penalty='l1')\n",
    "scores = cross_validate(clf, heart_X_pipeline, heart_y, scoring=scoring, cv=kfold)\n",
    "\n",
    "print(\"Logrithmic Regression Accuracy: %.2f%%\" % (scores['test_acc'].mean() * 100)) \n",
    "print(\"Logrithmic Regression Precision: %.2f%%\" % (scores['test_prec'].mean() * 100)) \n",
    "print(\"Logrithmic Regression Recall: %.2f%%\" % (scores['test_rec'].mean() * 100)) \n",
    "print(\"Logrithmic Regression F1: %.2f%%\" % (scores['test_f1'].mean() * 100)) \n",
    "\n",
    "print()\n",
    "\n",
    "clf = SVC(kernel='linear')\n",
    "scores = cross_validate(clf, heart_X_pipeline, heart_y, scoring=scoring, cv=kfold)\n",
    "\n",
    "print(\"SVM Regression Accuracy: %.2f%%\" % (scores['test_acc'].mean()*100.0))\n",
    "print(\"SVM Regression Precision: %.2f%%\" % (scores['test_prec'].mean()*100.0))\n",
    "print(\"SVM Regression Recall: %.2f%%\" % (scores['test_rec'].mean()*100.0))\n",
    "print(\"SVM Regression F1: %.2f%%\" % (scores['test_f1'].mean()*100.0))"
   ]
  },
  {
   "cell_type": "markdown",
   "metadata": {},
   "source": [
    "### Question 4.2\n",
    "Discuss your results and why they differ slightly from what you got for the 2 models above."
   ]
  },
  {
   "cell_type": "markdown",
   "metadata": {},
   "source": [
    "The results are different from the results above because of the K-fold cross validation. Originally, we just split our data once using train_test_split, which puts our data at risk for balance and bias issues (it is up to chance whether or not we get good balanced, unbiased training and test sets). \n",
    "\n",
    "K-fold cross validation works as follows: \n",
    "We randomly shuffle the dataset and split the dataset into k (above, k = 10) groups. We take each unqiue group as a test set, take the remaining groups as a training set, fit the model on the training set and evaluate on the test set, and obtain the evaluation score and discard the model. We then get the cumulative results over the 10 groups.\n",
    "\n",
    "This way, we eliminate any potential balance and bias issues by testing and training from 10 different sets of the entire data. With cross-validation, we predict more accurate results by repeating the experiment multiple times; the 10 splits make it so we use all the different parts of the training set as validation sets. \n",
    "This gives a more accurate indication of how well the model generalizes to unseen data, as opposed to just testing the data once from training and test sets that are likely to be biased and/or unbalanced.\n",
    "\n",
    "K-fold cross validation doesn't make the results better; it just makes them more accurate, so this is why these scores are slightly worse than the original scores."
   ]
  },
  {
   "cell_type": "markdown",
   "metadata": {},
   "source": [
    "### Question 4.3\n",
    "Out of these 2 models, based on their scores for the 4 metrics, which one would you pick for this specific case of predicting if someone has heart disease or not?"
   ]
  },
  {
   "cell_type": "markdown",
   "metadata": {},
   "source": [
    "The logistic regression model with `liblinear` solver is the best. The cumulative scores are higher across the board, with accuracy and F1 scores being important as they show that the logistic regression model is in general a better model for true positives and true negatives (accuracy) and for false positives and false negatives (F1), as well as for precision and recall. Most importantly, recall is higher for the logistic regression model - we want recall to be as high as possible since we want the number of false negatives to be very low (we don't want to predict someone to be healthy when they are actually sick)."
   ]
  }
 ],
 "metadata": {
  "interpreter": {
   "hash": "e2b4b543088541a807e06e1625987a13e669517e82f1996c665d47581f48fce3"
  },
  "kernelspec": {
   "display_name": "Python 3 (ipykernel)",
   "language": "python",
   "name": "python3"
  },
  "language_info": {
   "codemirror_mode": {
    "name": "ipython",
    "version": 3
   },
   "file_extension": ".py",
   "mimetype": "text/x-python",
   "name": "python",
   "nbconvert_exporter": "python",
   "pygments_lexer": "ipython3",
   "version": "3.8.8"
  }
 },
 "nbformat": 4,
 "nbformat_minor": 2
}
